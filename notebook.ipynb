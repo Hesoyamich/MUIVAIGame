{
 "cells": [
  {
   "cell_type": "code",
   "execution_count": 1,
   "id": "c6ffd185",
   "metadata": {},
   "outputs": [],
   "source": [
    "from dqnagent import DQNAgent"
   ]
  },
  {
   "cell_type": "code",
   "execution_count": 2,
   "id": "45682742",
   "metadata": {},
   "outputs": [],
   "source": [
    "agent = DQNAgent(23, 4)"
   ]
  },
  {
   "cell_type": "code",
   "execution_count": 3,
   "id": "97554f29",
   "metadata": {},
   "outputs": [
    {
     "name": "stdout",
     "output_type": "stream",
     "text": [
      "pygame-ce 2.5.3 (SDL 2.30.12, Python 3.11.2)\n"
     ]
    }
   ],
   "source": [
    "from scripts.TaxiDriver import TaxiDriver"
   ]
  },
  {
   "cell_type": "code",
   "execution_count": 4,
   "id": "cc545284",
   "metadata": {},
   "outputs": [],
   "source": [
    "game = TaxiDriver(10)\n"
   ]
  },
  {
   "cell_type": "code",
   "execution_count": null,
   "id": "4eb37cdf",
   "metadata": {},
   "outputs": [
    {
     "ename": "AttributeError",
     "evalue": "'DQNAgent' object has no attribute 'replay'",
     "output_type": "error",
     "traceback": [
      "\u001b[31m---------------------------------------------------------------------------\u001b[39m",
      "\u001b[31mAttributeError\u001b[39m                            Traceback (most recent call last)",
      "\u001b[36mCell\u001b[39m\u001b[36m \u001b[39m\u001b[32mIn[5]\u001b[39m\u001b[32m, line 18\u001b[39m\n\u001b[32m     15\u001b[39m total_reward += reward\n\u001b[32m     17\u001b[39m \u001b[38;5;66;03m# Обучение\u001b[39;00m\n\u001b[32m---> \u001b[39m\u001b[32m18\u001b[39m \u001b[43magent\u001b[49m\u001b[43m.\u001b[49m\u001b[43mreplay\u001b[49m()\n\u001b[32m     20\u001b[39m \u001b[38;5;66;03m# Обновлять целевую модель переодически\u001b[39;00m\n\u001b[32m     21\u001b[39m \u001b[38;5;28;01mif\u001b[39;00m total_time % agent.update_target_every == \u001b[32m0\u001b[39m:\n",
      "\u001b[31mAttributeError\u001b[39m: 'DQNAgent' object has no attribute 'replay'"
     ]
    }
   ],
   "source": [
    "episodes = 1000\n",
    "total_time = 0\n",
    "\n",
    "for episode in range(episodes):\n",
    "    state = game.reset()\n",
    "    total_reward = 0\n",
    "    done = False\n",
    "    \n",
    "    while not done:\n",
    "        total_time += 1\n",
    "        action = agent.take_action(state)\n",
    "        next_state, reward, done = game.step(action)\n",
    "        agent.remember(state, action, reward, next_state, done)\n",
    "        state = next_state\n",
    "        total_reward += reward\n",
    "        \n",
    "        # Обучение\n",
    "        agent.train()\n",
    "        \n",
    "        # Обновлять целевую модель переодически\n",
    "        if total_time % agent.update_target_every == 0:\n",
    "            agent.update_target_network()\n",
    "    \n",
    "    print(f\"Episode: {episode+1}/{episodes}, Total Reward: {total_reward}, Epsilon: {agent.epsilon:.2f}\")\n"
   ]
  },
  {
   "cell_type": "code",
   "execution_count": null,
   "id": "6338692e",
   "metadata": {},
   "outputs": [],
   "source": []
  }
 ],
 "metadata": {
  "kernelspec": {
   "display_name": "venv",
   "language": "python",
   "name": "python3"
  },
  "language_info": {
   "codemirror_mode": {
    "name": "ipython",
    "version": 3
   },
   "file_extension": ".py",
   "mimetype": "text/x-python",
   "name": "python",
   "nbconvert_exporter": "python",
   "pygments_lexer": "ipython3",
   "version": "3.11.2"
  }
 },
 "nbformat": 4,
 "nbformat_minor": 5
}
