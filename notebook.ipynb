{
 "cells": [
  {
   "cell_type": "code",
   "execution_count": 1,
   "id": "c6ffd185",
   "metadata": {},
   "outputs": [],
   "source": [
    "from dqnagent import DQNAgent"
   ]
  },
  {
   "cell_type": "code",
   "execution_count": null,
   "id": "45682742",
   "metadata": {},
   "outputs": [],
   "source": [
    "agent = DQNAgent"
   ]
  }
 ],
 "metadata": {
  "kernelspec": {
   "display_name": "venv",
   "language": "python",
   "name": "python3"
  },
  "language_info": {
   "codemirror_mode": {
    "name": "ipython",
    "version": 3
   },
   "file_extension": ".py",
   "mimetype": "text/x-python",
   "name": "python",
   "nbconvert_exporter": "python",
   "pygments_lexer": "ipython3",
   "version": "3.11.2"
  }
 },
 "nbformat": 4,
 "nbformat_minor": 5
}
